{
  "nbformat": 4,
  "nbformat_minor": 0,
  "metadata": {
    "colab": {
      "name": "segment_classification.ipynb",
      "provenance": [],
      "collapsed_sections": []
    },
    "kernelspec": {
      "name": "python3",
      "display_name": "Python 3"
    },
    "language_info": {
      "name": "python"
    }
  },
  "cells": [
    {
      "cell_type": "code",
      "execution_count": null,
      "metadata": {
        "colab": {
          "base_uri": "https://localhost:8080/"
        },
        "id": "Uwc2PVvX7VJq",
        "outputId": "89212bff-6a2e-4e22-c3c1-2d713abdf254"
      },
      "outputs": [
        {
          "output_type": "stream",
          "name": "stdout",
          "text": [
            "Train: X=(60000, 28, 28), y=(60000,)\n",
            "Test: X=(10000, 28, 28), y=(10000,)\n"
          ]
        }
      ],
      "source": [
        "import tensorflow as tf\n",
        "from tensorflow.keras.datasets import mnist\n",
        "from matplotlib import pyplot as plt\n",
        "# load dataset\n",
        "(trainX, trainy), (testX, testy) = mnist.load_data()\n",
        "# summarize loaded dataset\n",
        "print('Train: X=%s, y=%s' % (trainX.shape, trainy.shape))\n",
        "print('Test: X=%s, y=%s' % (testX.shape, testy.shape))\n",
        "# plot first few images\n",
        "\n",
        "plt.show()\n"
      ]
    },
    {
      "cell_type": "code",
      "source": [
        "from google.colab import drive\n",
        "drive.mount('/content/gdrive')"
      ],
      "metadata": {
        "colab": {
          "base_uri": "https://localhost:8080/"
        },
        "id": "hwvgUBnxpzle",
        "outputId": "f82e45ce-06b8-4718-d990-e2e9b5d90255"
      },
      "execution_count": null,
      "outputs": [
        {
          "output_type": "stream",
          "name": "stdout",
          "text": [
            "Mounted at /content/gdrive\n"
          ]
        }
      ]
    },
    {
      "cell_type": "code",
      "source": [
        "from google.colab import drive\n",
        "drive.mount('/content/drive')"
      ],
      "metadata": {
        "colab": {
          "base_uri": "https://localhost:8080/"
        },
        "id": "bzqLjf3PpZYo",
        "outputId": "bcc8265d-7ef0-4555-e9eb-d60e6314575e"
      },
      "execution_count": null,
      "outputs": [
        {
          "output_type": "stream",
          "name": "stdout",
          "text": [
            "Mounted at /content/drive\n"
          ]
        }
      ]
    },
    {
      "cell_type": "code",
      "source": [
        "import pandas as pd\n",
        "import numpy as np\n",
        "import os\n",
        "import tensorflow as tf\n",
        "import cv2\n",
        "from tensorflow import keras\n",
        "# from tensorflow.keras import layers, Dense, Input, InputLayer, Flatten\n",
        "from tensorflow.keras.models import Sequential, Model\n",
        "from  matplotlib import pyplot as plt\n",
        "import matplotlib.image as mpimg\n",
        "import random\n",
        "%matplotlib inline\n",
        "\n",
        "plt.figure(figsize=(364,364))\n",
        "test_folder = r'gdrive/MyDrive/full_data/left'\n",
        "'''for i in range(5):\n",
        "    file = random.choice(os.listdir(test_folder))\n",
        "    image_path= os.path.join(test_folder, file)\n",
        "    img=mpimg.imread(image_path, cv2.IMREAD_GRAYSCALE)\n",
        "    thresh, binary_img = cv2.threshold(img, 127, 255, cv2.THRESH_BINARY)\n",
        "    ax=plt.subplot(1,5,i+1)\n",
        "    ax.title.set_text(file)\n",
        "    plt.imshow(img)'''\n",
        "\n",
        "IMG_WIDTH=364\n",
        "IMG_HEIGHT=364\n",
        "img_folder=r'drive/MyDrive/full_data'\n",
        "\n",
        "def create_dataset(img_folder):\n",
        "   \n",
        "    img_data_array=[]\n",
        "    class_name=[]\n",
        "   \n",
        "    for dir1 in os.listdir(img_folder):\n",
        "        for file in os.listdir(os.path.join(img_folder, dir1)):\n",
        "       \n",
        "            image_path= os.path.join(img_folder, dir1,  file)\n",
        "            image= cv2.imread( image_path, cv2.COLOR_BGR2RGB)\n",
        "            image=cv2.resize(image, (IMG_HEIGHT, IMG_WIDTH),interpolation = cv2.INTER_AREA)\n",
        "            image=np.array(image)\n",
        "            image = image.astype('float32')\n",
        "            image /= 255 \n",
        "            img_data_array.append(image)\n",
        "            class_name.append(dir1)\n",
        "    return img_data_array, class_name\n",
        "\n",
        "img_data, class_name =create_dataset(r'drive/MyDrive/full_data')"
      ],
      "metadata": {
        "colab": {
          "base_uri": "https://localhost:8080/",
          "height": 34
        },
        "id": "bB54RQEzoRWA",
        "outputId": "98df2a39-df49-4493-abe8-f12b461e9eb4"
      },
      "execution_count": null,
      "outputs": [
        {
          "output_type": "display_data",
          "data": {
            "text/plain": [
              "<Figure size 26208x26208 with 0 Axes>"
            ]
          },
          "metadata": {}
        }
      ]
    },
    {
      "cell_type": "code",
      "source": [
        "target_dict={k: v for v, k in enumerate(np.unique(class_name))}\n",
        "print(target_dict)"
      ],
      "metadata": {
        "colab": {
          "base_uri": "https://localhost:8080/"
        },
        "id": "3x14ik-hxSWF",
        "outputId": "81f2c99f-fbc4-4304-95d5-b385b45d00d7"
      },
      "execution_count": null,
      "outputs": [
        {
          "output_type": "stream",
          "name": "stdout",
          "text": [
            "{'left': 0, 'right': 1, 'straight': 2}\n"
          ]
        }
      ]
    },
    {
      "cell_type": "code",
      "source": [
        "target_val=  [target_dict[class_name[i]] for i in range(len(class_name))]\n",
        "print(target_val)"
      ],
      "metadata": {
        "colab": {
          "base_uri": "https://localhost:8080/"
        },
        "id": "jg0Tq4F1xacA",
        "outputId": "c57decfc-f6f8-4abe-fd31-7e7a2cf760a9"
      },
      "execution_count": null,
      "outputs": [
        {
          "output_type": "stream",
          "name": "stdout",
          "text": [
            "[2, 2, 2, 2, 2, 2, 2, 2, 2, 2, 2, 2, 2, 2, 2, 2, 2, 2, 2, 2, 2, 2, 2, 2, 2, 2, 2, 2, 2, 2, 2, 2, 2, 2, 2, 1, 1, 1, 1, 1, 1, 1, 1, 1, 1, 1, 1, 1, 1, 1, 1, 1, 1, 1, 1, 1, 1, 1, 1, 1, 1, 1, 1, 1, 1, 1, 1, 1, 1, 1, 1, 1, 1, 1, 1, 1, 1, 1, 1, 1, 1, 1, 1, 1, 1, 1, 1, 1, 1, 1, 1, 1, 1, 1, 1, 1, 1, 1, 1, 1, 1, 1, 1, 1, 1, 1, 1, 1, 1, 1, 0, 0, 0, 0, 0, 0, 0, 0, 0, 0, 0, 0, 0, 0, 0, 0, 0, 0, 0, 0, 0, 0, 0, 0, 0, 0, 0, 0, 0, 0, 0, 0, 0, 0, 0, 0, 0, 0, 0, 0, 0, 0, 0, 0, 0, 0, 0, 0, 0, 0]\n"
          ]
        }
      ]
    },
    {
      "cell_type": "code",
      "source": [
        "import random\n",
        "\n",
        "# make it in the right format for CNN\n",
        "X = img_data\n",
        "Y = target_val\n",
        "\n",
        "print(len(img_data))\n",
        "\n",
        "indices = []\n",
        "for i in range(160):\n",
        "  indices.append(i)\n",
        "\n",
        "random.shuffle(indices)\n",
        "\n",
        "print(indices)"
      ],
      "metadata": {
        "colab": {
          "base_uri": "https://localhost:8080/"
        },
        "id": "_f7qqaxPxweA",
        "outputId": "59475842-7a30-4205-f712-6a6affb6c877"
      },
      "execution_count": null,
      "outputs": [
        {
          "output_type": "stream",
          "name": "stdout",
          "text": [
            "160\n",
            "[74, 121, 30, 2, 86, 75, 4, 39, 15, 157, 79, 109, 34, 140, 61, 35, 18, 46, 90, 11, 72, 138, 116, 130, 156, 27, 144, 123, 143, 6, 45, 111, 88, 83, 84, 94, 21, 91, 154, 10, 60, 47, 106, 59, 112, 69, 55, 5, 133, 129, 119, 158, 128, 77, 67, 139, 115, 127, 56, 95, 98, 62, 102, 33, 25, 78, 120, 153, 155, 99, 135, 105, 150, 96, 36, 101, 82, 152, 114, 71, 107, 136, 73, 122, 103, 37, 51, 89, 85, 0, 17, 126, 31, 141, 32, 110, 113, 63, 147, 23, 19, 148, 13, 159, 151, 53, 92, 142, 125, 124, 65, 81, 50, 145, 80, 20, 26, 70, 134, 42, 8, 57, 146, 1, 137, 118, 12, 100, 40, 93, 58, 24, 54, 43, 132, 97, 64, 14, 108, 16, 29, 68, 44, 52, 38, 104, 28, 41, 3, 87, 7, 22, 9, 149, 131, 76, 48, 117, 66, 49]\n"
          ]
        }
      ]
    },
    {
      "cell_type": "code",
      "source": [
        "# 100 images train, 44 images test\n",
        "trainX = []\n",
        "trainY = []\n",
        "\n",
        "testX = []\n",
        "testY = []\n",
        "\n",
        "for i in range(112):\n",
        "  trainX.append(X[indices[i]])\n",
        "  trainY.append(Y[indices[i]])\n",
        "\n",
        "for i in range(112, 160):\n",
        "  testX.append(X[indices[i]])\n",
        "  testY.append(Y[indices[i]])"
      ],
      "metadata": {
        "id": "4l2KHX6z0gfi"
      },
      "execution_count": null,
      "outputs": []
    },
    {
      "cell_type": "code",
      "source": [
        "#trainX = trainX.reshape((tf.convert_to_tensor(trainX).shape[0], 28, 28, 1))\n",
        "#testX = testX.reshape((tf.convert_to_tensor(testX).shape[0], 28, 28, 1))\n",
        "\n",
        "trainX = tf.convert_to_tensor(trainX)\n",
        "trainX = trainX.numpy()\n",
        "testX = tf.convert_to_tensor(testX)\n",
        "testX = testX.numpy()\n",
        "\n",
        "trainX = trainX.reshape((trainX.shape[0], 364, 364, 1))\n",
        "testX = testX.reshape((testX.shape[0], 364, 364, 1))\n",
        "\n",
        "print(trainX.shape)\n",
        "print(testX.shape)"
      ],
      "metadata": {
        "colab": {
          "base_uri": "https://localhost:8080/"
        },
        "id": "faLpi8bO1kyP",
        "outputId": "ddb35d6b-a408-4dc5-d91d-4f785860361c"
      },
      "execution_count": null,
      "outputs": [
        {
          "output_type": "stream",
          "name": "stdout",
          "text": [
            "(112, 364, 364, 1)\n",
            "(48, 364, 364, 1)\n"
          ]
        }
      ]
    },
    {
      "cell_type": "code",
      "source": [
        "# one hot encode target values\n",
        "trainY = tf.keras.utils.to_categorical(trainY)\n",
        "testY = tf.keras.utils.to_categorical(testY)"
      ],
      "metadata": {
        "id": "R5SC4xI94Y3T"
      },
      "execution_count": null,
      "outputs": []
    },
    {
      "cell_type": "code",
      "source": [
        "# normalize train data\n",
        "# convert from integers to floats\n",
        "train_norm = trainX.astype('float32')\n",
        "test_norm = testX.astype('float32')\n",
        "# normalize to range 0-1\n",
        "train_norm = train_norm / 255.0\n",
        "test_norm = test_norm / 255.0"
      ],
      "metadata": {
        "id": "1Dsb3M9r4jZc"
      },
      "execution_count": null,
      "outputs": []
    },
    {
      "cell_type": "code",
      "source": [
        "def load_dataset():\n",
        "  img_data, class_name =create_dataset(r'drive/MyDrive/full_data')\n",
        "  target_val=  [target_dict[class_name[i]] for i in range(len(class_name))]\n",
        "\n",
        "  # make it in the right format for CNN\n",
        "  X = img_data\n",
        "  Y = target_val\n",
        "\n",
        "  indices = []\n",
        "  for i in range(160):\n",
        "    indices.append(i)\n",
        "\n",
        "  random.shuffle(indices)\n",
        "\n",
        "  trainX = []\n",
        "  trainY = []\n",
        "\n",
        "  testX = []\n",
        "  testY = []\n",
        "\n",
        "  for i in range(112):\n",
        "    trainX.append(X[indices[i]])\n",
        "    trainY.append(Y[indices[i]])\n",
        "\n",
        "  for i in range(112, 160):\n",
        "    testX.append(X[indices[i]])\n",
        "    testY.append(Y[indices[i]])\n",
        "  \n",
        "  trainX = tf.convert_to_tensor(trainX)\n",
        "  trainX = trainX.numpy()\n",
        "  testX = tf.convert_to_tensor(testX)\n",
        "  testX = testX.numpy()\n",
        "\n",
        "  trainX = trainX.reshape((trainX.shape[0], 364, 364, 1))\n",
        "  testX = testX.reshape((testX.shape[0], 364, 364, 1))\n",
        "\n",
        "  print(trainX.shape)\n",
        "  print(testX.shape)\n",
        "\n",
        "  # one hot encode target values\n",
        "  trainY = tf.keras.utils.to_categorical(trainY)\n",
        "  testY = tf.keras.utils.to_categorical(testY)\n",
        "\n",
        "  return trainX, trainY, testX, testY"
      ],
      "metadata": {
        "id": "lx3jkQ9E5G_V"
      },
      "execution_count": null,
      "outputs": []
    },
    {
      "cell_type": "markdown",
      "source": [
        "# New Section"
      ],
      "metadata": {
        "id": "dR8sN41OYIAj"
      }
    },
    {
      "cell_type": "code",
      "source": [
        "'''\n",
        "# load dataset\n",
        "(trX, trY), (teX, teY) = mnist.load_data()\n",
        "print(trX.shape)\n",
        "# reshape dataset to have a single channel\n",
        "trX = trX.reshape((trX.shape[0], 28, 28, 1))\n",
        "#testX = testX.reshape((testX.shape[0], 28, 28, 1))\n",
        "print(trX.shape)\n",
        "'''"
      ],
      "metadata": {
        "id": "vQkNb9sC7ZVX",
        "colab": {
          "base_uri": "https://localhost:8080/",
          "height": 53
        },
        "outputId": "4fb2d568-d726-47ec-f761-5e20edd5bc02"
      },
      "execution_count": null,
      "outputs": [
        {
          "output_type": "execute_result",
          "data": {
            "application/vnd.google.colaboratory.intrinsic+json": {
              "type": "string"
            },
            "text/plain": [
              "'\\n# load dataset\\n(trX, trY), (teX, teY) = mnist.load_data()\\nprint(trX.shape)\\n# reshape dataset to have a single channel\\ntrX = trX.reshape((trX.shape[0], 28, 28, 1))\\n#testX = testX.reshape((testX.shape[0], 28, 28, 1))\\nprint(trX.shape)\\n'"
            ]
          },
          "metadata": {},
          "execution_count": 13
        }
      ]
    },
    {
      "cell_type": "code",
      "source": [
        "'''\n",
        "# one hot encode target values\n",
        "trainY = tf.keras.utils.to_categorical(trainY)\n",
        "testY = tf.keras.utils.to_categorical(testY)\n",
        "'''"
      ],
      "metadata": {
        "id": "MMND-xdw7dkh",
        "colab": {
          "base_uri": "https://localhost:8080/",
          "height": 35
        },
        "outputId": "c296fead-003a-4837-cec0-c96941a397fa"
      },
      "execution_count": null,
      "outputs": [
        {
          "output_type": "execute_result",
          "data": {
            "application/vnd.google.colaboratory.intrinsic+json": {
              "type": "string"
            },
            "text/plain": [
              "'\\n# one hot encode target values\\ntrainY = tf.keras.utils.to_categorical(trainY)\\ntestY = tf.keras.utils.to_categorical(testY)\\n'"
            ]
          },
          "metadata": {},
          "execution_count": 14
        }
      ]
    },
    {
      "cell_type": "code",
      "source": [
        "'''\n",
        "def load_dataset():\n",
        "\t# load dataset\n",
        "\t(trainX, trainY), (testX, testY) = mnist.load_data()\n",
        "\t# reshape dataset to have a single channel\n",
        "\ttrainX = trainX.reshape((trainX.shape[0], 28, 28, 1))\n",
        "\ttestX = testX.reshape((testX.shape[0], 28, 28, 1))\n",
        "\t# one hot encode target values\n",
        "\ttrainY = tf.keras.utils.to_categorical(trainY)\n",
        "\ttestY = tf.keras.utils.to_categorical(testY)\n",
        "\treturn trainX, trainY, testX, testY\n",
        "'''"
      ],
      "metadata": {
        "id": "kxkmObOQ7g9e",
        "colab": {
          "base_uri": "https://localhost:8080/",
          "height": 70
        },
        "outputId": "6f67d37c-cce4-443c-91b7-dd11acab0538"
      },
      "execution_count": null,
      "outputs": [
        {
          "output_type": "execute_result",
          "data": {
            "application/vnd.google.colaboratory.intrinsic+json": {
              "type": "string"
            },
            "text/plain": [
              "'\\ndef load_dataset():\\n\\t# load dataset\\n\\t(trainX, trainY), (testX, testY) = mnist.load_data()\\n\\t# reshape dataset to have a single channel\\n\\ttrainX = trainX.reshape((trainX.shape[0], 28, 28, 1))\\n\\ttestX = testX.reshape((testX.shape[0], 28, 28, 1))\\n\\t# one hot encode target values\\n\\ttrainY = tf.keras.utils.to_categorical(trainY)\\n\\ttestY = tf.keras.utils.to_categorical(testY)\\n\\treturn trainX, trainY, testX, testY\\n'"
            ]
          },
          "metadata": {},
          "execution_count": 15
        }
      ]
    },
    {
      "cell_type": "code",
      "source": [
        "'''\n",
        "# convert from integers to floats\n",
        "train_norm = trainX.astype('float32')\n",
        "test_norm = testX.astype('float32')\n",
        "# normalize to range 0-1\n",
        "train_norm = train_norm / 255.0\n",
        "test_norm = test_norm / 255.0\n",
        "'''"
      ],
      "metadata": {
        "id": "Ck7uZEGH8ule",
        "colab": {
          "base_uri": "https://localhost:8080/",
          "height": 53
        },
        "outputId": "06d143e5-b412-49d2-de4f-10a761f1dc0d"
      },
      "execution_count": null,
      "outputs": [
        {
          "output_type": "execute_result",
          "data": {
            "application/vnd.google.colaboratory.intrinsic+json": {
              "type": "string"
            },
            "text/plain": [
              "\"\\n# convert from integers to floats\\ntrain_norm = trainX.astype('float32')\\ntest_norm = testX.astype('float32')\\n# normalize to range 0-1\\ntrain_norm = train_norm / 255.0\\ntest_norm = test_norm / 255.0\\n\""
            ]
          },
          "metadata": {},
          "execution_count": 16
        }
      ]
    },
    {
      "cell_type": "code",
      "source": [
        "def prep_pixels(train, test):\n",
        "\t# convert from integers to floats\n",
        "\ttrain_norm = train.astype('float32')\n",
        "\ttest_norm = test.astype('float32')\n",
        "\t# normalize to range 0-1\n",
        "\ttrain_norm = train_norm / 255.0\n",
        "\ttest_norm = test_norm / 255.0\n",
        "\t# return normalized images\n",
        "\treturn train_norm, test_norm"
      ],
      "metadata": {
        "id": "8w91GKWZ9P7X"
      },
      "execution_count": null,
      "outputs": []
    },
    {
      "cell_type": "code",
      "source": [
        "# define cnn model\n",
        "def define_model():\n",
        "\tmodel = tf.keras.Sequential()\n",
        "\tmodel.add(tf.keras.layers.Conv2D(32, (3, 3), activation='relu', kernel_initializer='he_uniform', input_shape=(364, 364, 1)))\n",
        "\tmodel.add(tf.keras.layers.MaxPooling2D((2, 2)))\n",
        "\tmodel.add(tf.keras.layers.Flatten())\n",
        "\tmodel.add(tf.keras.layers.Dense(130, activation='relu', kernel_initializer='he_uniform'))\n",
        "\tmodel.add(tf.keras.layers.Dense(3, activation='softmax'))\n",
        "\t# compile model\n",
        "\topt = tf.keras.optimizers.SGD(learning_rate=0.01, momentum=0.9)\n",
        "\tmodel.compile(optimizer=opt, loss='categorical_crossentropy', metrics=['accuracy'])\n",
        "\treturn model"
      ],
      "metadata": {
        "id": "aH6xX0Di9TAl"
      },
      "execution_count": null,
      "outputs": []
    },
    {
      "cell_type": "code",
      "source": [
        "# evaluate a model using k-fold cross-validation\n",
        "from sklearn.model_selection import KFold\n",
        "\n",
        "def evaluate_model(dataX, dataY, n_folds=5):\n",
        "\tscores, histories = list(), list()\n",
        "\t# prepare cross validation\n",
        "\tkfold = KFold(n_folds, shuffle=True, random_state=1)\n",
        "\t# enumerate splits\n",
        "\tfor train_ix, test_ix in kfold.split(dataX):\n",
        "\t\t# define model\n",
        "\t\tmodel = define_model()\n",
        "\t\t# select rows for train and test\n",
        "\t\ttrainX, trainY, testX, testY = dataX[train_ix], dataY[train_ix], dataX[test_ix], dataY[test_ix]\n",
        "\t\t# fit model\n",
        "\t\thistory = model.fit(trainX, trainY, epochs=10, batch_size=32, validation_data=(testX, testY), verbose=0)\n",
        "\t\t# evaluate model\n",
        "\t\t_, acc = model.evaluate(testX, testY, verbose=0)\n",
        "\t\tprint('> %.3f' % (acc * 100.0))\n",
        "\t\t# stores scores\n",
        "\t\tscores.append(acc)\n",
        "\t\thistories.append(history)\n",
        "\treturn scores, histories"
      ],
      "metadata": {
        "id": "FSX_pPUy9bD8"
      },
      "execution_count": null,
      "outputs": []
    },
    {
      "cell_type": "code",
      "source": [
        "# plot diagnostic learning curves\n",
        "def summarize_diagnostics(histories):\n",
        "\tticks = [num/10 for num in range(1, 10)]\t\n",
        "\ty = [num for num in range(1, 10)]\n",
        "\tfor i in range(len(histories)):\n",
        "\t\t# plot loss\n",
        "\t\tplt.subplot(2, 1, 1)\n",
        "\t\tplt.title('Cross Entropy Loss')\n",
        "\t\tplt.plot(histories[i].history['loss'], color='blue', label='train')\n",
        "\t\tplt.plot(histories[i].history['val_loss'], color='orange', label='test')\n",
        "\t\t#plt.figure().set_figheight(5)\n",
        "\t\t# plot accuracy\n",
        "\t\tfig, ax = plt.subplots()\n",
        "\t\tplt.subplot(2, 1, 2)\n",
        "\t\tax.set_ylabel('Accuracy (%)')\n",
        "\t\tax.set_xlabel('Training iterations')\n",
        "\t\tplt.title('Classification Accuracy')\n",
        "\t\tplt.plot(histories[i].history['accuracy'], color='blue', label='train')\n",
        "\t\tplt.plot(histories[i].history['val_accuracy'], color='orange', label='test')\n",
        "\t\tplt.axis()\n",
        "\t\t#plt.figure().set_figheight(5)\n",
        "\t\t#plt.yticks(y, ticks)\n",
        "\n",
        "\n",
        "\tplt.show()\n"
      ],
      "metadata": {
        "id": "N8Z5UxwD9gpj"
      },
      "execution_count": null,
      "outputs": []
    },
    {
      "cell_type": "code",
      "source": [
        "# summarize model performance\n",
        "import statistics\n",
        "\n",
        "def summarize_performance(scores):\n",
        "\t# print summary\n",
        "\tprint('Accuracy: mean=%.3f std=%.3f, n=%d' % (statistics.mean(scores)*100, statistics.std(scores)*100, len(scores)))\n",
        "\t# box and whisker plots of results\n",
        "\tplt.boxplot(scores)\n",
        "\tplt.show()"
      ],
      "metadata": {
        "id": "txgNg_MQ9lb0"
      },
      "execution_count": null,
      "outputs": []
    },
    {
      "cell_type": "code",
      "source": [
        "# run the test harness for evaluating a model\n",
        "def run_test_harness():\n",
        "\t# load dataset\n",
        "  print(\"loading dataset\")\n",
        "  trainX, trainY, testX, testY = load_dataset()\n",
        "\n",
        "\t# prepare pixel data\n",
        "  print(\"prep pixels\")\n",
        "  trainX, testX = prep_pixels(trainX, testX)\n",
        "\n",
        "\t# evaluate model\n",
        "  print(\"evaluate model\")\n",
        "  scores, histories = evaluate_model(trainX, trainY)\n",
        "\n",
        "\t# learning curves\n",
        "  print(\"summarize diagnostics\")\n",
        "  summarize_diagnostics(histories)\n",
        " \n",
        "\t# summarize estimated performance\n",
        "  summarize_performance(scores)"
      ],
      "metadata": {
        "id": "E4o4Sodr9pTg"
      },
      "execution_count": null,
      "outputs": []
    },
    {
      "cell_type": "code",
      "source": [
        "run_test_harness()"
      ],
      "metadata": {
        "colab": {
          "base_uri": "https://localhost:8080/",
          "height": 1000
        },
        "id": "VvlJ0jOl-Ae4",
        "outputId": "d9f53b85-fa0d-4988-fec4-7f0525353c85"
      },
      "execution_count": null,
      "outputs": [
        {
          "output_type": "stream",
          "name": "stdout",
          "text": [
            "loading dataset\n",
            "(112, 364, 364, 1)\n",
            "(48, 364, 364, 1)\n",
            "prep pixels\n",
            "evaluate model\n",
            "> 52.174\n",
            "> 43.478\n",
            "> 63.636\n",
            "> 50.000\n",
            "> 36.364\n",
            "summarize diagnostics\n"
          ]
        },
        {
          "output_type": "display_data",
          "data": {
            "image/png": "[encoded data removed]",
            "text/plain": [
              "<Figure size 432x288 with 1 Axes>"
            ]
          },
          "metadata": {
            "needs_background": "light"
          }
        },
        {
          "output_type": "display_data",
          "data": {
            "image/png": "[encoded data removed]",
            "text/plain": [
              "<Figure size 432x288 with 2 Axes>"
            ]
          },
          "metadata": {
            "needs_background": "light"
          }
        },
        {
          "output_type": "display_data",
          "data": {
            "image/png": "[encoded data removed]",
            "text/plain": [
              "<Figure size 432x288 with 2 Axes>"
            ]
          },
          "metadata": {
            "needs_background": "light"
          }
        },
        {
          "output_type": "display_data",
          "data": {
            "image/png": "[encoded data removed]",
            "text/plain": [
              "<Figure size 432x288 with 2 Axes>"
            ]
          },
          "metadata": {
            "needs_background": "light"
          }
        },
        {
          "output_type": "display_data",
          "data": {
            "image/png": "[encoded data removed]",
            "text/plain": [
              "<Figure size 432x288 with 2 Axes>"
            ]
          },
          "metadata": {
            "needs_background": "light"
          }
        },
        {
          "output_type": "display_data",
          "data": {
            "image/png": "[encoded data removed]",
            "text/plain": [
              "<Figure size 432x288 with 1 Axes>"
            ]
          },
          "metadata": {
            "needs_background": "light"
          }
        },
        {
          "output_type": "error",
          "ename": "AttributeError",
          "evalue": "ignored",
          "traceback": [
            "\u001b[0;31m---------------------------------------------------------------------------\u001b[0m",
            "\u001b[0;31mAttributeError\u001b[0m                            Traceback (most recent call last)",
            "\u001b[0;32m<ipython-input-23-c1b3612b5def>\u001b[0m in \u001b[0;36m<module>\u001b[0;34m()\u001b[0m\n\u001b[0;32m----> 1\u001b[0;31m \u001b[0mrun_test_harness\u001b[0m\u001b[0;34m(\u001b[0m\u001b[0;34m)\u001b[0m\u001b[0;34m\u001b[0m\u001b[0;34m\u001b[0m\u001b[0m\n\u001b[0m",
            "\u001b[0;32m<ipython-input-22-cd20766c4f8e>\u001b[0m in \u001b[0;36mrun_test_harness\u001b[0;34m()\u001b[0m\n\u001b[1;32m     18\u001b[0m \u001b[0;34m\u001b[0m\u001b[0m\n\u001b[1;32m     19\u001b[0m         \u001b[0;31m# summarize estimated performance\u001b[0m\u001b[0;34m\u001b[0m\u001b[0;34m\u001b[0m\u001b[0;34m\u001b[0m\u001b[0m\n\u001b[0;32m---> 20\u001b[0;31m   \u001b[0msummarize_performance\u001b[0m\u001b[0;34m(\u001b[0m\u001b[0mscores\u001b[0m\u001b[0;34m)\u001b[0m\u001b[0;34m\u001b[0m\u001b[0;34m\u001b[0m\u001b[0m\n\u001b[0m",
            "\u001b[0;32m<ipython-input-21-d8819db344e5>\u001b[0m in \u001b[0;36msummarize_performance\u001b[0;34m(scores)\u001b[0m\n\u001b[1;32m      4\u001b[0m \u001b[0;32mdef\u001b[0m \u001b[0msummarize_performance\u001b[0m\u001b[0;34m(\u001b[0m\u001b[0mscores\u001b[0m\u001b[0;34m)\u001b[0m\u001b[0;34m:\u001b[0m\u001b[0;34m\u001b[0m\u001b[0;34m\u001b[0m\u001b[0m\n\u001b[1;32m      5\u001b[0m         \u001b[0;31m# print summary\u001b[0m\u001b[0;34m\u001b[0m\u001b[0;34m\u001b[0m\u001b[0;34m\u001b[0m\u001b[0m\n\u001b[0;32m----> 6\u001b[0;31m         \u001b[0mprint\u001b[0m\u001b[0;34m(\u001b[0m\u001b[0;34m'Accuracy: mean=%.3f std=%.3f, n=%d'\u001b[0m \u001b[0;34m%\u001b[0m \u001b[0;34m(\u001b[0m\u001b[0mstatistics\u001b[0m\u001b[0;34m.\u001b[0m\u001b[0mmean\u001b[0m\u001b[0;34m(\u001b[0m\u001b[0mscores\u001b[0m\u001b[0;34m)\u001b[0m\u001b[0;34m*\u001b[0m\u001b[0;36m100\u001b[0m\u001b[0;34m,\u001b[0m \u001b[0mstatistics\u001b[0m\u001b[0;34m.\u001b[0m\u001b[0mstd\u001b[0m\u001b[0;34m(\u001b[0m\u001b[0mscores\u001b[0m\u001b[0;34m)\u001b[0m\u001b[0;34m*\u001b[0m\u001b[0;36m100\u001b[0m\u001b[0;34m,\u001b[0m \u001b[0mlen\u001b[0m\u001b[0;34m(\u001b[0m\u001b[0mscores\u001b[0m\u001b[0;34m)\u001b[0m\u001b[0;34m)\u001b[0m\u001b[0;34m)\u001b[0m\u001b[0;34m\u001b[0m\u001b[0;34m\u001b[0m\u001b[0m\n\u001b[0m\u001b[1;32m      7\u001b[0m         \u001b[0;31m# box and whisker plots of results\u001b[0m\u001b[0;34m\u001b[0m\u001b[0;34m\u001b[0m\u001b[0;34m\u001b[0m\u001b[0m\n\u001b[1;32m      8\u001b[0m         \u001b[0mplt\u001b[0m\u001b[0;34m.\u001b[0m\u001b[0mboxplot\u001b[0m\u001b[0;34m(\u001b[0m\u001b[0mscores\u001b[0m\u001b[0;34m)\u001b[0m\u001b[0;34m\u001b[0m\u001b[0;34m\u001b[0m\u001b[0m\n",
            "\u001b[0;31mAttributeError\u001b[0m: module 'statistics' has no attribute 'std'"
          ]
        }
      ]
    },
    {
      "cell_type": "code",
      "source": [
        ""
      ],
      "metadata": {
        "id": "syUcbtNt-Blr"
      },
      "execution_count": null,
      "outputs": []
    }
  ]
}